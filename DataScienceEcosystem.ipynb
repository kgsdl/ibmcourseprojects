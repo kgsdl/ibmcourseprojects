{
 "cells": [
  {
   "cell_type": "markdown",
   "id": "a4c21d85-ec98-464b-97a7-6e2af77f5071",
   "metadata": {},
   "source": [
    "# Data Science Tools and Ecosystem\n",
    "\n",
    "In this notebook, Data Science Tools and Ecosystem are summarized.\n",
    "\n",
    "## Author: \"kgsdl\" @ GitHub"
   ]
  },
  {
   "cell_type": "markdown",
   "id": "47020a85-fee2-40ba-8309-a39356e6596d",
   "metadata": {},
   "source": [
    "__Objectives:__\n",
    "+ List popular languages for Data Science\n",
    "+ List popular libraries for Data Science"
   ]
  },
  {
   "cell_type": "markdown",
   "id": "455e21ff-5529-4bbd-997b-be2e38ee3f2d",
   "metadata": {},
   "source": [
    "Some of the popular languages that Data Scientists use are:\n",
    "- Python\n",
    "- Java\n",
    "- C++"
   ]
  },
  {
   "cell_type": "markdown",
   "id": "75d81c7b-e28b-4840-8bb7-f63f4a2c3fa6",
   "metadata": {},
   "source": [
    "Some of the commonly used libraries used by Data Scientists include:\n",
    "* NumPy\n",
    "* Pandas\n",
    "* Matplotlib"
   ]
  },
  {
   "cell_type": "markdown",
   "id": "c22c832d-de5f-4428-8041-478b0ea8b311",
   "metadata": {},
   "source": [
    "## Data Science Tools"
   ]
  },
  {
   "cell_type": "markdown",
   "id": "87006de8-00fb-42b4-acb9-03220bcdbab3",
   "metadata": {},
   "source": [
    "|   | Data Mining and Transformation |\n",
    "| --- | --- |\n",
    "| 1 | Weka |\n",
    "| 2 | Scrapy |\n",
    "| 3 | Pandas |\n",
    "\n",
    "|   | Data Analysis and Big Data Tools |\n",
    "| --- | --- |\n",
    "| 1 | Knime |\n",
    "| 2 | Hadoop |\n",
    "| 3 | Spark |\n",
    "| 4 | Neo4J |"
   ]
  },
  {
   "cell_type": "markdown",
   "id": "6ccb2481-6de9-419b-b157-615f63c6502b",
   "metadata": {},
   "source": [
    "### Below are a few examples of evaluating arithmetic expressions in Python."
   ]
  },
  {
   "cell_type": "code",
   "execution_count": 3,
   "id": "6420618b-349e-43d0-afe0-6cf59d293b16",
   "metadata": {
    "tags": []
   },
   "outputs": [],
   "source": [
    "# This a simple arithmetic expression to mutiply then add integers"
   ]
  },
  {
   "cell_type": "code",
   "execution_count": 1,
   "id": "9501c18e-da3c-4299-9fd7-c5c3136235cf",
   "metadata": {
    "tags": []
   },
   "outputs": [
    {
     "data": {
      "text/plain": [
       "17"
      ]
     },
     "execution_count": 1,
     "metadata": {},
     "output_type": "execute_result"
    }
   ],
   "source": [
    "(3*4)+5"
   ]
  },
  {
   "cell_type": "code",
   "execution_count": null,
   "id": "c1511576-b405-411b-82d0-fe3393578040",
   "metadata": {},
   "outputs": [],
   "source": [
    "# This will convert 200 minutes to hours by diving by 60"
   ]
  },
  {
   "cell_type": "code",
   "execution_count": 4,
   "id": "3b8cd0ae-a7c4-45ca-a08c-95603b6b7a00",
   "metadata": {
    "tags": []
   },
   "outputs": [
    {
     "data": {
      "text/plain": [
       "3.3333333333333335"
      ]
     },
     "execution_count": 4,
     "metadata": {},
     "output_type": "execute_result"
    }
   ],
   "source": [
    "200 / 60"
   ]
  },
  {
   "cell_type": "code",
   "execution_count": null,
   "id": "abeb2b4b-6c73-4691-91eb-5d79f8cba4e6",
   "metadata": {},
   "outputs": [],
   "source": []
  }
 ],
 "metadata": {
  "kernelspec": {
   "display_name": "Python 3 (ipykernel)",
   "language": "python",
   "name": "python3"
  },
  "language_info": {
   "codemirror_mode": {
    "name": "ipython",
    "version": 3
   },
   "file_extension": ".py",
   "mimetype": "text/x-python",
   "name": "python",
   "nbconvert_exporter": "python",
   "pygments_lexer": "ipython3",
   "version": "3.11.5"
  }
 },
 "nbformat": 4,
 "nbformat_minor": 5
}
